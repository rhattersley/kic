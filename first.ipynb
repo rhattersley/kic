{
 "cells": [
  {
   "cell_type": "code",
   "execution_count": 1,
   "metadata": {
    "collapsed": false
   },
   "outputs": [],
   "source": [
    "%matplotlib inline\n",
    "\n",
    "import pandas as pd"
   ]
  },
  {
   "cell_type": "code",
   "execution_count": 23,
   "metadata": {
    "collapsed": false
   },
   "outputs": [
    {
     "data": {
      "text/html": [
       "<div>\n",
       "<table border=\"1\" class=\"dataframe\">\n",
       "  <thead>\n",
       "    <tr style=\"text-align: right;\">\n",
       "      <th></th>\n",
       "      <th>Date</th>\n",
       "      <th>year</th>\n",
       "      <th>magcal_magdep</th>\n",
       "      <th>magcal_local_rms</th>\n",
       "      <th>limiting_mag_local</th>\n",
       "      <th>ra</th>\n",
       "      <th>dec</th>\n",
       "      <th>THETA_J2000</th>\n",
       "      <th>ELLIPTICITY</th>\n",
       "      <th>Plate</th>\n",
       "      <th>versionId</th>\n",
       "      <th>AFLAGS</th>\n",
       "      <th>timeAccuracy</th>\n",
       "    </tr>\n",
       "  </thead>\n",
       "  <tbody>\n",
       "    <tr>\n",
       "      <th>0</th>\n",
       "      <td>2411313.525236</td>\n",
       "      <td>1889.849384</td>\n",
       "      <td>11.91</td>\n",
       "      <td>0.31</td>\n",
       "      <td>12.91</td>\n",
       "      <td>301.56502</td>\n",
       "      <td>44.45708</td>\n",
       "      <td>-87.3</td>\n",
       "      <td>0.511</td>\n",
       "      <td>i00083</td>\n",
       "      <td>96</td>\n",
       "      <td>0</td>\n",
       "      <td>0.0007</td>\n",
       "    </tr>\n",
       "    <tr>\n",
       "      <th>1</th>\n",
       "      <td>2411640.532201</td>\n",
       "      <td>1890.745294</td>\n",
       "      <td>11.56</td>\n",
       "      <td>0.49</td>\n",
       "      <td>12.59</td>\n",
       "      <td>301.56445</td>\n",
       "      <td>44.45697</td>\n",
       "      <td>-51.5</td>\n",
       "      <td>0.446</td>\n",
       "      <td>i01889</td>\n",
       "      <td>96</td>\n",
       "      <td>33554432</td>\n",
       "      <td>0.0007</td>\n",
       "    </tr>\n",
       "    <tr>\n",
       "      <th>2</th>\n",
       "      <td>2411640.603185</td>\n",
       "      <td>1890.745488</td>\n",
       "      <td>12.31</td>\n",
       "      <td>0.25</td>\n",
       "      <td>13.13</td>\n",
       "      <td>301.56429</td>\n",
       "      <td>44.45796</td>\n",
       "      <td>41.3</td>\n",
       "      <td>0.181</td>\n",
       "      <td>i01893</td>\n",
       "      <td>96</td>\n",
       "      <td>69206016</td>\n",
       "      <td>0.0007</td>\n",
       "    </tr>\n",
       "    <tr>\n",
       "      <th>3</th>\n",
       "      <td>2411682.462369</td>\n",
       "      <td>1890.860171</td>\n",
       "      <td>0.00</td>\n",
       "      <td>0.00</td>\n",
       "      <td>11.76</td>\n",
       "      <td>0.00000</td>\n",
       "      <td>0.00000</td>\n",
       "      <td>0.0</td>\n",
       "      <td>0.000</td>\n",
       "      <td>i02227</td>\n",
       "      <td>96</td>\n",
       "      <td>0</td>\n",
       "      <td>-1.0000</td>\n",
       "    </tr>\n",
       "    <tr>\n",
       "      <th>4</th>\n",
       "      <td>2411692.454482</td>\n",
       "      <td>1890.887547</td>\n",
       "      <td>11.51</td>\n",
       "      <td>3.02</td>\n",
       "      <td>12.36</td>\n",
       "      <td>301.56575</td>\n",
       "      <td>44.45693</td>\n",
       "      <td>-22.6</td>\n",
       "      <td>0.367</td>\n",
       "      <td>i02302</td>\n",
       "      <td>96</td>\n",
       "      <td>369137664</td>\n",
       "      <td>0.0007</td>\n",
       "    </tr>\n",
       "  </tbody>\n",
       "</table>\n",
       "</div>"
      ],
      "text/plain": [
       "             Date         year  magcal_magdep  magcal_local_rms  \\\n",
       "0  2411313.525236  1889.849384          11.91              0.31   \n",
       "1  2411640.532201  1890.745294          11.56              0.49   \n",
       "2  2411640.603185  1890.745488          12.31              0.25   \n",
       "3  2411682.462369  1890.860171           0.00              0.00   \n",
       "4  2411692.454482  1890.887547          11.51              3.02   \n",
       "\n",
       "   limiting_mag_local         ra       dec  THETA_J2000  ELLIPTICITY   Plate  \\\n",
       "0               12.91  301.56502  44.45708        -87.3        0.511  i00083   \n",
       "1               12.59  301.56445  44.45697        -51.5        0.446  i01889   \n",
       "2               13.13  301.56429  44.45796         41.3        0.181  i01893   \n",
       "3               11.76    0.00000   0.00000          0.0        0.000  i02227   \n",
       "4               12.36  301.56575  44.45693        -22.6        0.367  i02302   \n",
       "\n",
       "   versionId     AFLAGS  timeAccuracy  \n",
       "0         96          0        0.0007  \n",
       "1         96   33554432        0.0007  \n",
       "2         96   69206016        0.0007  \n",
       "3         96          0       -1.0000  \n",
       "4         96  369137664        0.0007  "
      ]
     },
     "execution_count": 23,
     "metadata": {},
     "output_type": "execute_result"
    }
   ],
   "source": [
    "path = 'plotshort_K8462852.db'\n",
    "path = 'fullshort_K8462852.db'\n",
    "df = pd.read_csv(path, delimiter='\\t', skiprows=range(5) + [6])\n",
    "df[:5]"
   ]
  },
  {
   "cell_type": "code",
   "execution_count": 21,
   "metadata": {
    "collapsed": false
   },
   "outputs": [
    {
     "name": "stdout",
     "output_type": "stream",
     "text": [
      "919\n",
      "858\n",
      "640\n",
      "640\n"
     ]
    },
    {
     "data": {
      "text/plain": [
       "<matplotlib.axes._subplots.AxesSubplot at 0x7f5b271a5690>"
      ]
     },
     "execution_count": 21,
     "metadata": {},
     "output_type": "execute_result"
    },
    {
     "data": {
      "image/png": "[encoded data removed]",
      "text/plain": [
       "<matplotlib.figure.Figure at 0x7f5b26f6e510>"
      ]
     },
     "metadata": {},
     "output_type": "display_data"
    }
   ],
   "source": [
    "print len(df)\n",
    "df = df[df.AFLAGS <= 9000]\n",
    "print len(df)\n",
    "df = df[df.magcal_local_rms <= 0.33]\n",
    "print len(df)\n",
    "df = df[df.magcal_magdep > df.magcal_local_rms + 0.2]\n",
    "print len(df)\n",
    "df.plot(kind='scatter', x='Date', y='magcal_magdep', yerr='magcal_local_rms')"
   ]
  },
  {
   "cell_type": "code",
   "execution_count": null,
   "metadata": {
    "collapsed": true
   },
   "outputs": [],
   "source": []
  }
 ],
 "metadata": {
  "kernelspec": {
   "display_name": "Python 2",
   "language": "python",
   "name": "python2"
  },
  "language_info": {
   "codemirror_mode": {
    "name": "ipython",
    "version": 2
   },
   "file_extension": ".py",
   "mimetype": "text/x-python",
   "name": "python",
   "nbconvert_exporter": "python",
   "pygments_lexer": "ipython2",
   "version": "2.7.11"
  }
 },
 "nbformat": 4,
 "nbformat_minor": 0
}
